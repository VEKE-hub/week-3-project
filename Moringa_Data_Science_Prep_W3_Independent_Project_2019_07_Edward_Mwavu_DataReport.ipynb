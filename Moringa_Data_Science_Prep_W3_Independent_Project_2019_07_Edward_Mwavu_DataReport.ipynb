{
  "nbformat": 4,
  "nbformat_minor": 0,
  "metadata": {
    "colab": {
      "name": "Moringa_Data_Science_Prep_W3_Independent_Project_2019_07_Edward_Mwavu_DataReport.ipynb",
      "provenance": [],
      "authorship_tag": "ABX9TyOyuOii9aFLbTp4nuLthfhm",
      "include_colab_link": true
    },
    "kernelspec": {
      "name": "python3",
      "display_name": "Python 3"
    },
    "language_info": {
      "name": "python"
    }
  },
  "cells": [
    {
      "cell_type": "markdown",
      "metadata": {
        "id": "view-in-github",
        "colab_type": "text"
      },
      "source": [
        "<a href=\"https://colab.research.google.com/github/VEKE-hub/week-3-project/blob/main/Moringa_Data_Science_Prep_W3_Independent_Project_2019_07_Edward_Mwavu_DataReport.ipynb\" target=\"_parent\"><img src=\"https://colab.research.google.com/assets/colab-badge.svg\" alt=\"Open In Colab\"/></a>"
      ]
    },
    {
      "cell_type": "markdown",
      "metadata": {
        "id": "jLn8VI8KX_yC"
      },
      "source": [
        "1.0 Preview\n",
        "\n",
        "The main idea of this report is to identify how MTN Cote d'Ivoire would go about the upgrade of its infrastructure strategy within the given cities where MTN Côte d’Ivoire operates. We have data for 3 days."
      ]
    },
    {
      "cell_type": "markdown",
      "metadata": {
        "id": "cxMlCStVYh90"
      },
      "source": [
        "2.0 Datasets\n",
        "\n",
        "Below are the datasets used for this project:\n",
        "\n",
        ".cells_geo_description.xlsx link\n",
        "\n",
        ".cells_geo.csv link\n",
        "\n",
        ".CDR_description.xlsx link\n",
        "\n",
        ".CDR 20120507 [http://bit.ly/TelecomDataset1]\n",
        "\n",
        ".CDR 20120508 [http://bit.ly/TelecomDataset2]\n",
        "\n",
        ".CDR 20120509 [http://bit.ly/TelecomDataset3]"
      ]
    },
    {
      "cell_type": "markdown",
      "metadata": {
        "id": "Uly9rcmdZarU"
      },
      "source": [
        "2.1 Importing the Libraries to be used"
      ]
    },
    {
      "cell_type": "code",
      "metadata": {
        "id": "tkCKetBjZdbV"
      },
      "source": [
        "# To import the pandas library, we use the below code:\n",
        "#\n",
        "import pandas as pd\n",
        "# as well as the Numpy library\n",
        "#\n",
        "import numpy as np\n"
      ],
      "execution_count": null,
      "outputs": []
    },
    {
      "cell_type": "markdown",
      "metadata": {
        "id": "kLhEybvFZi7_"
      },
      "source": [
        "2.2 Loading our Datasets"
      ]
    },
    {
      "cell_type": "code",
      "metadata": {
        "id": "4s4BGpGxZ9iK"
      },
      "source": [
        "#We first load cells_geo_description.xlsx\n",
        "#url=https://drive.google.com/a/moringaschool.com/file/d/1-rIM5ihDu79RaH7rAs-d-7SQSAQhrY9N/\n",
        "#we download from the above url and upload it in colab\n",
        "\n",
        "df1=pd.read_excel('cells_geo_description.xlsx')\n",
        "print(df1)"
      ],
      "execution_count": null,
      "outputs": []
    },
    {
      "cell_type": "code",
      "metadata": {
        "id": "57K0v8XUaHNC"
      },
      "source": [
        "# cells_geo.csv from the url https://drive.google.com/file/d/1ABZux280OjL3yWcOn8BDA_f5QsyO0QPU/\n",
        "# url='https://drive.google.com/file/d/1ABZux280OjL3yWcOn8BDA_f5QsyO0QPU/view'\n",
        "# we download the data and upload it in the notebook\n",
        "df2=pd.read_csv('cells_geo.csv', delimiter=';')\n",
        "df2.head(5)"
      ],
      "execution_count": null,
      "outputs": []
    },
    {
      "cell_type": "code",
      "metadata": {
        "id": "VMEAQpBdaUK9"
      },
      "source": [
        "# CDR_description data from the url https://drive.google.com/file/d/1cVoNXl25IO5-_yQk97ThdeqhE6yw8YTD/view\n",
        "# we download the data and upload it in the notebook\n",
        "\n",
        "df3 = pd.read_excel('CDR_description.xlsx')\n",
        "df3"
      ],
      "execution_count": null,
      "outputs": []
    },
    {
      "cell_type": "code",
      "metadata": {
        "id": "PC54KyksabV3"
      },
      "source": [
        "# CDR 20120507 [http://bit.ly/TelecomDataset1]\n",
        "# we download the data and upload it in the notebook\n",
        "#url='http://bit.ly/TelecomDataset1'\n",
        "df4=pd.read_csv('Telcom_dataset.csv')\n",
        "df4.head(5)\n"
      ],
      "execution_count": null,
      "outputs": []
    },
    {
      "cell_type": "code",
      "metadata": {
        "id": "1lVhOCSAaiJs"
      },
      "source": [
        "# CDR 20120508 [http://bit.ly/TelecomDataset2]\n",
        "# we download the data and upload it in the notebook\n",
        "\n",
        "df5=pd.read_csv('Telcom_dataset2.csv')\n",
        "df4.head(5)"
      ],
      "execution_count": null,
      "outputs": []
    },
    {
      "cell_type": "code",
      "metadata": {
        "id": "CSND1oYdao7N"
      },
      "source": [
        "# CDR 20120509 [http://bit.ly/TelecomDataset3]\n",
        "# we download the data and upload it in the notebook\n",
        "\n",
        "df6=pd.read_csv('Telcom_dataset3.csv')\n",
        "df4.head(5)\n"
      ],
      "execution_count": null,
      "outputs": []
    },
    {
      "cell_type": "markdown",
      "metadata": {
        "id": "-AdBJ-rvatqn"
      },
      "source": [
        "3.0 Data Exprolation"
      ]
    },
    {
      "cell_type": "markdown",
      "metadata": {
        "id": "NPOAvEGoa6ld"
      },
      "source": [
        "3.1 Cells Geo"
      ]
    },
    {
      "cell_type": "code",
      "metadata": {
        "id": "e1oEJ636bCbs"
      },
      "source": [
        "df2.head(3)"
      ],
      "execution_count": null,
      "outputs": []
    },
    {
      "cell_type": "code",
      "metadata": {
        "id": "iTYePiyNbMQ4"
      },
      "source": [
        "#changing the column name SITE_CODE to SITE_ID and deleting the former column\n",
        "df2['SITE_ID']=df2['SITE_CODE']\n",
        "del df2['SITE_CODE']\n"
      ],
      "execution_count": null,
      "outputs": []
    },
    {
      "cell_type": "code",
      "metadata": {
        "id": "mWEFyIMsbRaU"
      },
      "source": [
        "# This counts the number of unique cities\n",
        "cities = list(df2['VILLES'].unique())\n",
        "len(cities)\n"
      ],
      "execution_count": null,
      "outputs": []
    },
    {
      "cell_type": "code",
      "metadata": {
        "id": "lxb1SJyGbWe6"
      },
      "source": [
        "# This code gives the status of whether in service or not\n",
        "\n",
        "Status = df2[\"STATUS\"].value_counts(normalize=True)\n",
        "print(Status)"
      ],
      "execution_count": null,
      "outputs": []
    },
    {
      "cell_type": "code",
      "metadata": {
        "id": "X_SJUG7gbiT6"
      },
      "source": [
        "#This code returns whether the locality was in Abidjan or not\n",
        "Localize = df2[\"LOCALISATION\"].value_counts(normalize=True)\n",
        "print(Localize)"
      ],
      "execution_count": null,
      "outputs": []
    },
    {
      "cell_type": "code",
      "metadata": {
        "id": "kKp_CxzvbkfV"
      },
      "source": [
        "#This code returns the unique Geographical zones and percentage of each Geographical zone\n",
        "Geographical_zone = df2[\"DECOUPZONE\"].value_counts(normalize=True)\n",
        "print(Geographical_zone)\n",
        "\n",
        "# We print the number of Geographical zones\n",
        "print(len(list(df2['DECOUPZONE'].unique())))"
      ],
      "execution_count": null,
      "outputs": []
    },
    {
      "cell_type": "code",
      "metadata": {
        "id": "gGofw6sobtwv"
      },
      "source": [
        "#This code returns the unique zones and percentage of each zone\n",
        "Name_of_zone = df2[\"ZONENAME\"].value_counts(normalize=True)\n",
        "print(Name_of_zone)\n",
        "\n",
        "# We print the number of zones\n",
        "print(len(list(df2['ZONENAME'].unique())))\n"
      ],
      "execution_count": null,
      "outputs": []
    },
    {
      "cell_type": "code",
      "metadata": {
        "id": "B5Z90WkZb0y5"
      },
      "source": [
        "#This code returns the unique regions and percentage of each region\n",
        "Region = df2[\"REGION\"].value_counts(normalize=True)\n",
        "print(Region)\n",
        "\n",
        "# We print the number of regions\n",
        "print(len(list(df2['REGION'].unique())))\n"
      ],
      "execution_count": null,
      "outputs": []
    },
    {
      "cell_type": "code",
      "metadata": {
        "id": "dejYcEB9b7_O"
      },
      "source": [
        "#This code returns the unique cells and percentage of each cell\n",
        "#Cells = df2[\"CELL_ID\"].value_counts(normalize=True)\n",
        "#print(Cells)\n",
        "\n",
        "# We print the number of cells\n",
        "#print(len(list(df2['CELL_ID'].unique())))\n",
        "\n",
        "cells = df2['CELL_ID'].groupby(df2['VILLES'])\n",
        "f=cells.count()\n",
        "f.sort_values(ascending=False)\n"
      ],
      "execution_count": null,
      "outputs": []
    },
    {
      "cell_type": "code",
      "metadata": {
        "id": "iVScJae2cDn6"
      },
      "source": [
        "#This code returns the unique sites and percentage of each site\n",
        "Site = df2[\"SITE_ID\"].value_counts(normalize=True)\n",
        "print(Site)\n",
        "\n",
        "# We print the number of cells\n",
        "print(len(list(df2['SITE_ID'].unique())))"
      ],
      "execution_count": null,
      "outputs": []
    },
    {
      "cell_type": "code",
      "metadata": {
        "id": "fp6kfJX3cQcD"
      },
      "source": [
        "#Geog_Abidan = df2[['DECOUPZONE','LOCALISATION']]\n",
        "#print(Geog_Abidan)\n",
        "Geog_Abidan = df2['DECOUPZONE'].groupby(df2['LOCALISATION'])\n",
        "Geog_Abidan.count()"
      ],
      "execution_count": null,
      "outputs": []
    },
    {
      "cell_type": "code",
      "metadata": {
        "id": "dDELgrudcWwJ"
      },
      "source": [
        "#Grouping localisation with region\n",
        "Loc_Region = df2['LOCALISATION'].groupby(df2['REGION'])\n",
        "Loc_Region.count()"
      ],
      "execution_count": null,
      "outputs": []
    },
    {
      "cell_type": "code",
      "metadata": {
        "id": "O2-X4ER1cnfk"
      },
      "source": [
        "#Grouping cells with region\n",
        "cell_Region = df2['CELL_ID'].groupby(df2['REGION'])\n",
        "cell_Region.count()"
      ],
      "execution_count": null,
      "outputs": []
    },
    {
      "cell_type": "code",
      "metadata": {
        "id": "mj-mEFaXcpdT"
      },
      "source": [
        "#Grouping sites with region\n",
        "Site_Region = (df2['SITE_ID']).groupby(df2['REGION']).unique()\n",
        "Site_Region"
      ],
      "execution_count": null,
      "outputs": []
    },
    {
      "cell_type": "markdown",
      "metadata": {
        "id": "7tYp2fZac2gT"
      },
      "source": [
        "3.2 Telcom Datasets"
      ]
    },
    {
      "cell_type": "code",
      "metadata": {
        "id": "eEjltmBKc4ND"
      },
      "source": [
        "#Changing column name and deleting the previous column for dataframes df4, df5 and df6\n",
        "df5['DW_A_NUMBER_INT'] = df5['DW_A_NUMBER']\n",
        "del df5['DW_A_NUMBER']\n",
        "df5['DW_B_NUMBER_INT']=df5['DW_B_NUMBER']\n",
        "del df5['DW_B_NUMBER']\n",
        "df4['PRODUCT']=df4['PRODUTC']\n",
        "del df4['PRODUTC']\n",
        "df4['DATE_TIME']=df4['DATETIME']\n",
        "del df4['DATETIME']\n",
        "df6['SITE_ID']=df6['SIET_ID']\n",
        "del df6['SIET_ID']\n",
        "df6['CELL_ID']=df6['CELLID']\n",
        "del df6['CELLID']\n"
      ],
      "execution_count": null,
      "outputs": []
    },
    {
      "cell_type": "code",
      "metadata": {
        "id": "OZx0ArEPdEy2"
      },
      "source": [
        "#converting the DATETIME which is in string format to Date format\n",
        "\n",
        "df4['new_date'] = pd.to_datetime(df4['DATE_TIME'])\n",
        "df5['new_date'] = pd.to_datetime(df5['DATE_TIME'])\n",
        "df6['new_date'] = pd.to_datetime(df6['DATE_TIME'])\n"
      ],
      "execution_count": null,
      "outputs": []
    },
    {
      "cell_type": "code",
      "metadata": {
        "id": "diLYohyjdF1H"
      },
      "source": [
        "# We first view the dataframe of Telcom Dataset for May 07, 2012\n",
        "df4.head(3)"
      ],
      "execution_count": null,
      "outputs": []
    },
    {
      "cell_type": "code",
      "metadata": {
        "id": "1i_Dz6U2dMk1"
      },
      "source": [
        "#df4_5 = pd.concat(df4, df5)\n",
        "#df4_5.head(3)\n",
        "frames = [df4,df5,df6]\n",
        "df456 = pd.concat(frames)\n",
        "\n",
        "df456.head(3)"
      ],
      "execution_count": null,
      "outputs": []
    },
    {
      "cell_type": "code",
      "metadata": {
        "id": "RPAS6QdDdTk4"
      },
      "source": [
        "# finding the usage value for each product for 20120507\n",
        "service_value_4 = df4['VALUE'].groupby(df4['PRODUCT'])\n",
        "print(service_value_4.sum())\n",
        "print(service_value_4.mean())"
      ],
      "execution_count": null,
      "outputs": []
    },
    {
      "cell_type": "code",
      "metadata": {
        "id": "QEw4tRyidZel"
      },
      "source": [
        "import time\n",
        "    from time import mktime\n",
        "    from datetime import datetime"
      ],
      "execution_count": null,
      "outputs": []
    },
    {
      "cell_type": "code",
      "metadata": {
        "id": "0RQhiQf7deef"
      },
      "source": [
        "#Splitting the date column into day and time columns\n",
        "df4['new_date_'] = [d.date() for d in df4['new_date']] # day\n",
        "df4['new_time'] = [d.time() for d in df4['new_date']]  # time\n",
        "df5['new_date_'] = [d.date() for d in df5['new_date']] # day\n",
        "df5['new_time'] = [d.time() for d in df5['new_date']]  # time\n",
        "df6['new_date_'] = [d.date() for d in df6['new_date']] # day\n",
        "df6['new_time'] = [d.time() for d in df6['new_date']]  # time\n"
      ],
      "execution_count": null,
      "outputs": []
    },
    {
      "cell_type": "code",
      "metadata": {
        "id": "60zNoPUSdkjJ"
      },
      "source": [
        "# finding the usage value for each product for 20120508\n",
        "service_value_5 = df5['VALUE'].groupby(df5['PRODUCT'])\n",
        "print(service_value_5.sum())\n",
        "print(service_value_5.mean())"
      ],
      "execution_count": null,
      "outputs": []
    },
    {
      "cell_type": "code",
      "metadata": {
        "id": "n-MG-Z87dsd-"
      },
      "source": [
        "# finding the usage value for each product for 20120509\n",
        "service_value_6 = df6['VALUE'].groupby(df6['PRODUCT'])\n",
        "print(service_value_6.sum())\n",
        "print(service_value_6.mean())"
      ],
      "execution_count": null,
      "outputs": []
    },
    {
      "cell_type": "code",
      "metadata": {
        "id": "tPxWRPbtdy5j"
      },
      "source": [
        "# finding the usage value for each product for 20120507, 20120508 &20120509\n",
        "service_value_456 = df456['VALUE'].groupby(df456['PRODUCT'])\n",
        "print(service_value_456.sum())\n",
        "print(service_value_456.mean())"
      ],
      "execution_count": null,
      "outputs": []
    },
    {
      "cell_type": "code",
      "metadata": {
        "id": "F0fkSR8Fd9ah"
      },
      "source": [
        "#Getting the usage value by zone\n",
        "value_456 = df456['VALUE'].groupby(df2['DECOUPZONE'])\n",
        "a=value_456.sum()\n",
        "b=value_456.mean()\n",
        "a.sort_values(ascending=False)\n"
      ],
      "execution_count": null,
      "outputs": []
    },
    {
      "cell_type": "code",
      "metadata": {
        "id": "LSO5l5yud-8o"
      },
      "source": [
        "#Getting the usage value by cities\n",
        "\n",
        "value_city = df456['VALUE'].groupby(df2['VILLES'])\n",
        "c=value_city.sum()\n",
        "print(c.sort_values(ascending=False))\n"
      ],
      "execution_count": null,
      "outputs": []
    },
    {
      "cell_type": "code",
      "metadata": {
        "id": "z7Q5W6DOeF9H"
      },
      "source": [
        "#ranking cities by time usage\n",
        "\n",
        "day_456 = df456['new_date'].groupby(df2['VILLES'])\n",
        "d=day_456.count()\n",
        "\n",
        "d.sort_values(ascending=False)"
      ],
      "execution_count": null,
      "outputs": []
    },
    {
      "cell_type": "code",
      "metadata": {
        "id": "PP_NuhtkeMPN"
      },
      "source": [
        "#Crearing a new column new_time that has time only\n",
        "\n",
        "df456['new_time'] = pd.to_datetime(df456['new_date'],format= '%H' ).dt.time\n",
        "df456.head(3)"
      ],
      "execution_count": null,
      "outputs": []
    }
  ]
}